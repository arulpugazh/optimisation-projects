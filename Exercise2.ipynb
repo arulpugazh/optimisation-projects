{
 "cells": [
  {
   "cell_type": "markdown",
   "metadata": {},
   "source": [
    "# Exercise 2"
   ]
  },
  {
   "cell_type": "markdown",
   "metadata": {},
   "source": [
    "## Rosenbrock Function"
   ]
  },
  {
   "cell_type": "markdown",
   "metadata": {},
   "source": [
    "#### Define the objective function"
   ]
  },
  {
   "cell_type": "code",
   "execution_count": 118,
   "metadata": {},
   "outputs": [],
   "source": [
    "%matplotlib inline\n",
    "from scipy.optimize import minimize, Bounds\n",
    "import math\n",
    "from prettytable import PrettyTable\n",
    "import matplotlib.pyplot as plt\n",
    "import matplotlib.style as style\n",
    "style.use('ggplot')\n",
    "from matplotlib.font_manager import FontProperties\n",
    "fontP = FontProperties()\n",
    "fontP.set_size('small')\n",
    "\n",
    "from mpl_toolkits.mplot3d import Axes3D\n",
    "import numpy as np\n",
    "import random\n",
    "\n",
    "b_iterations = []\n",
    "\n",
    "def banana(x):\n",
    "    x1, x2 = list(x)\n",
    "    result = 100 * (x2 - x1 ** 2) ** 2 + (1 - x1) ** 2 \n",
    "    b_iterations.append([x1, x2, result])\n",
    "    return result"
   ]
  },
  {
   "cell_type": "markdown",
   "metadata": {},
   "source": [
    "#### Define bounds and send the parameters to scipy.minimize"
   ]
  },
  {
   "cell_type": "code",
   "execution_count": 121,
   "metadata": {},
   "outputs": [
    {
     "name": "stdout",
     "output_type": "stream",
     "text": [
      "Optimization terminated successfully.\n",
      "         Current function value: 0.000000\n",
      "         Iterations: 113\n",
      "         Function evaluations: 215\n",
      "Optimization terminated successfully.\n",
      "         Current function value: 0.000000\n",
      "         Iterations: 104\n",
      "         Function evaluations: 201\n",
      "Optimization terminated successfully.\n",
      "         Current function value: 0.000000\n",
      "         Iterations: 153\n",
      "         Function evaluations: 284\n",
      "Optimization terminated successfully.\n",
      "         Current function value: 0.000000\n",
      "         Iterations: 124\n",
      "         Function evaluations: 236\n",
      "Optimization terminated successfully.\n",
      "         Current function value: 0.000000\n",
      "         Iterations: 109\n",
      "         Function evaluations: 207\n",
      "Optimization terminated successfully.\n",
      "         Current function value: 0.000000\n",
      "         Iterations: 144\n",
      "         Function evaluations: 268\n",
      "Optimization terminated successfully.\n",
      "         Current function value: 0.000000\n",
      "         Iterations: 122\n",
      "         Function evaluations: 229\n",
      "Optimization terminated successfully.\n",
      "         Current function value: 0.000000\n",
      "         Iterations: 98\n",
      "         Function evaluations: 190\n",
      "Optimization terminated successfully.\n",
      "         Current function value: 0.000000\n",
      "         Iterations: 116\n",
      "         Function evaluations: 218\n",
      "Optimization terminated successfully.\n",
      "         Current function value: 0.000000\n",
      "         Iterations: 120\n",
      "         Function evaluations: 232\n",
      "Optimization terminated successfully.\n",
      "         Current function value: 0.000000\n",
      "         Iterations: 105\n",
      "         Function evaluations: 203\n",
      "Optimization terminated successfully.\n",
      "         Current function value: 0.000000\n",
      "         Iterations: 118\n",
      "         Function evaluations: 231\n",
      "Optimization terminated successfully.\n",
      "         Current function value: 0.000000\n",
      "         Iterations: 117\n",
      "         Function evaluations: 220\n",
      "Optimization terminated successfully.\n",
      "         Current function value: 0.000000\n",
      "         Iterations: 112\n",
      "         Function evaluations: 211\n",
      "Optimization terminated successfully.\n",
      "         Current function value: 0.000000\n",
      "         Iterations: 115\n",
      "         Function evaluations: 218\n",
      "Optimization terminated successfully.\n",
      "         Current function value: 0.000000\n",
      "         Iterations: 95\n",
      "         Function evaluations: 181\n",
      "Optimization terminated successfully.\n",
      "         Current function value: 0.000000\n",
      "         Iterations: 121\n",
      "         Function evaluations: 223\n",
      "Optimization terminated successfully.\n",
      "         Current function value: 0.000000\n",
      "         Iterations: 147\n",
      "         Function evaluations: 272\n",
      "Optimization terminated successfully.\n",
      "         Current function value: 0.000000\n",
      "         Iterations: 91\n",
      "         Function evaluations: 173\n",
      "Optimization terminated successfully.\n",
      "         Current function value: 0.000000\n",
      "         Iterations: 99\n",
      "         Function evaluations: 187\n"
     ]
    },
    {
     "data": {
      "image/png": "[encoded data removed]",
      "text/plain": [
       "<Figure size 432x288 with 1 Axes>"
      ]
     },
     "metadata": {},
     "output_type": "display_data"
    }
   ],
   "source": [
    "initial_guesses = []\n",
    "for i in range(20):\n",
    "    initial_guesses.append([random.uniform(-5,5), random.uniform(-5,5)])\n",
    "\n",
    "plt.figure()\n",
    "\n",
    "i=0\n",
    "for inits in initial_guesses:\n",
    "    b_iterations = []\n",
    "    i=i+1\n",
    "    banana_bounds = Bounds(-5, 5)\n",
    "    bsol = minimize(banana, x0=inits, bounds=banana_bounds, method='nelder-mead', \\\n",
    "                    options={'xtol': 1e-8, 'disp': True})\n",
    "    apt = np.array(b_iterations)\n",
    "    pt = PrettyTable()\n",
    "    pt.add_column(\"x1\",apt[:,0])\n",
    "    pt.add_column(\"x2\",apt[:,1])\n",
    "    pt.add_column(\"obj\",apt[:,2])\n",
    "    plt.plot([i for i in range(apt.shape[0])], apt[:,2], label=f\"Run-{i}\")\n",
    "    \n",
    "plt.title(\"Exercise 2: Rosenbrock Function\")\n",
    "plt.xlabel(\"Iterations\")\n",
    "plt.ylabel(\"Function Value\")\n",
    "plt.legend(loc='upper center', bbox_to_anchor=(0.5, -0.20),\\\n",
    "          fancybox=True, shadow=True, ncol=5,prop=fontP)\n",
    "plt.show()\n"
   ]
  },
  {
   "cell_type": "markdown",
   "metadata": {},
   "source": [
    "## Observations"
   ]
  },
  {
   "cell_type": "markdown",
   "metadata": {},
   "source": [
    "1. Made 20 runs with random initial guesses each time\n",
    "2. Scipy made more than one functional evaluations for each iterations for this method (nelder-mead). \n",
    "3. All the runs found global minimum and the worst run did it at around 30 iterations"
   ]
  },
  {
   "cell_type": "markdown",
   "metadata": {},
   "source": [
    "### Eggcrate Function"
   ]
  },
  {
   "cell_type": "markdown",
   "metadata": {},
   "source": [
    "#### Define objective function"
   ]
  },
  {
   "cell_type": "code",
   "execution_count": 92,
   "metadata": {},
   "outputs": [],
   "source": [
    "e_iterations = []\n",
    "def eggcrate(x):\n",
    "    x1, x2 = list(x)\n",
    "    return x1 ** 2 + x2 ** 2 + 25 * (math.sin(x1) ** 2 + math.sin(x2) ** 2)\n",
    "\n",
    "def egg_callback(xp):\n",
    "    x1, x2 = list(xp)\n",
    "    result = eggcrate(xp)\n",
    "    e_iterations.append([x1, x2, result])"
   ]
  },
  {
   "cell_type": "code",
   "execution_count": 93,
   "metadata": {},
   "outputs": [
    {
     "data": {
      "text/plain": [
       "2.915635516211367"
      ]
     },
     "execution_count": 93,
     "metadata": {},
     "output_type": "execute_result"
    }
   ],
   "source": [
    "random.uniform(-twopi, twopi)"
   ]
  },
  {
   "cell_type": "code",
   "execution_count": 94,
   "metadata": {},
   "outputs": [
    {
     "name": "stdout",
     "output_type": "stream",
     "text": [
      "[[5.433038096812728, -1.6178487598670932], [-2.349468286474147, 4.975573542088725], [2.933956958154953, 4.753226077868854], [4.3378429440231585, -0.18792219907420993], [-2.218016028545313, 5.551217704510389], [-2.294741477517435, -0.4620866089054081], [0.06822494696911363, -4.988926886317727], [4.84498287185334, -1.6254758073700977], [-5.413401705422894, -5.956076538836063], [-4.910513155343167, 6.23008646520654]]\n"
     ]
    }
   ],
   "source": [
    "twopi = (2 * math.pi)\n",
    "initial_guesses = []\n",
    "for i in range(10):\n",
    "    initial_guesses.append([random.uniform(-twopi, twopi), random.uniform(-twopi, twopi)])\n",
    "    \n",
    "print(initial_guesses)"
   ]
  },
  {
   "cell_type": "code",
   "execution_count": 123,
   "metadata": {},
   "outputs": [
    {
     "data": {
      "image/png": "[encoded data removed]",
      "text/plain": [
       "<Figure size 432x288 with 1 Axes>"
      ]
     },
     "metadata": {},
     "output_type": "display_data"
    }
   ],
   "source": [
    "plt.figure()\n",
    "i=0 \n",
    "for inits in initial_guesses:\n",
    "    i=i+1\n",
    "    e_iterations = []\n",
    "    eggcrate_bounds = Bounds(0 - (2 * math.pi), int(2 * math.pi))\n",
    "    eggsol = minimize(eggcrate, x0=inits, bounds=eggcrate_bounds, callback= egg_callback, \\\n",
    "                      method='TNC',options={'xtol': 1e-8, 'disp': True})\n",
    "    temp2= np.array(e_iterations)\n",
    "    ept = PrettyTable()\n",
    "    ept.add_column(\"x1\",temp2[:,0])\n",
    "    ept.add_column(\"x2\",temp2[:,1])\n",
    "    ept.add_column(\"obj\",temp2[:,2])\n",
    "    xvalues = [f\"Iter{i}\" for i in range(temp2.shape[0])]\n",
    "    plt.plot(xvalues, temp2[:,2], label=f\"Run-{i}\")\n",
    "\n",
    "plt.title(\"Exercise 2: Eggcrate Function\")\n",
    "plt.legend(loc='upper center', bbox_to_anchor=(0.5, -0.20),\\\n",
    "          fancybox=True, shadow=True, ncol=5,prop=fontP)\n",
    "plt.xlabel(\"Iterations\")\n",
    "plt.ylabel(\"Function Value\")\n",
    "plt.show()"
   ]
  },
  {
   "cell_type": "markdown",
   "metadata": {},
   "source": [
    "### Observations"
   ]
  },
  {
   "cell_type": "markdown",
   "metadata": {},
   "source": [
    "1. About 17 runs got stuck in local minimum\n",
    "2. 3 runs found global minimum\n",
    "3. The number of iterations is very low due to the large number of local minima"
   ]
  },
  {
   "cell_type": "markdown",
   "metadata": {},
   "source": [
    "## Golinksi Speed Reducer"
   ]
  },
  {
   "cell_type": "code",
   "execution_count": 96,
   "metadata": {},
   "outputs": [],
   "source": [
    "g_iterations = []\n",
    "\n",
    "def golinski(x):\n",
    "    x1, x2, x3, x4, x5, x6, x7 = list(x)\n",
    "    result =  0.7854 * x1 * (x2 ** 2) * (3.3333 * (x3 ** 2) + 14.9334 * x3 - 43.0934) \\\n",
    "           - 1.5079 * x1 * ((x6 ** 2) + (x7 ** 2)) + 7.477 * ((x6 ** 3) + (x7 ** 3)) \\\n",
    "           + 0.7854 * (x4 * (x6 ** 2) + (x5 * (x7 ** 2)))\n",
    "    g_iterations.append([x1, x2, x3, x4, x5, x6, x7,result])\n",
    "    return result"
   ]
  },
  {
   "cell_type": "markdown",
   "metadata": {},
   "source": [
    "### Define Contraint Functions"
   ]
  },
  {
   "cell_type": "code",
   "execution_count": 97,
   "metadata": {},
   "outputs": [],
   "source": [
    "def gol_cons1(x):\n",
    "    x1, x2, x3, x4, x5, x6, x7 = list(x)\n",
    "    return - (27 * (x1 ** -1) * (x2 ** -2) * (x3 ** -1) - 1)\n",
    "\n",
    "\n",
    "def gol_cons2(x):\n",
    "    x1, x2, x3, x4, x5, x6, x7 = list(x)\n",
    "    return - (397.5 * (x1 ** -1) * (x2 ** -2) * (x3 ** -2) - 1)\n",
    "\n",
    "\n",
    "def gol_cons3(x):\n",
    "    x1, x2, x3, x4, x5, x6, x7 = list(x)\n",
    "    return - (1.93 * (x2 ** -1) * (x3 ** -1) * (x4 ** 3) * (x6 ** -4) - 1)\n",
    "\n",
    "def gol_cons4(x):\n",
    "    x1, x2, x3, x4, x5, x6, x7 = list(x)\n",
    "    return - (1.93 * (x2 ** -1) * (x3 ** -1) * (x5 ** 3) * (x7 ** -4) - 1)\n",
    "\n",
    "def gol_cons5(x):\n",
    "    x1, x2, x3, x4, x5, x6, x7 = list(x)\n",
    "    numerator = ((745 * x4 * (x2**-1) *(x3**-1))**2 + 16.9* (10**6)) ** 0.5\n",
    "    denominator = (110.0 * (x6**3))\n",
    "    return 1 - (numerator/denominator)\n",
    "\n",
    "def gol_cons6(x):\n",
    "    x1, x2, x3, x4, x5, x6, x7 = list(x)\n",
    "    numerator = ((745 * x5 * (x2**-1) *(x3**-1))**2 + 157.5* (10**6)) ** 0.5\n",
    "    denominator = (85.0 * (x7**3))\n",
    "    return 1 - (numerator/denominator)\n",
    "\n",
    "def gol_cons7(x):\n",
    "    x1, x2, x3, x4, x5, x6, x7 = list(x)\n",
    "    return 1 - (x2*x3/40)\n",
    "\n",
    "def gol_cons8(x):\n",
    "    x1, x2, x3, x4, x5, x6, x7 = list(x)\n",
    "    return 1 - (5*x2/x1)\n",
    "\n",
    "def gol_cons9(x):\n",
    "    x1, x2, x3, x4, x5, x6, x7 = list(x)\n",
    "    return 1 - (x1/(12*x2))\n",
    "\n",
    "def gol_cons24(x):\n",
    "    x1, x2, x3, x4, x5, x6, x7 = list(x)\n",
    "    return 1 - ((1.5 * x6 + 1.9) * (x4**-1))\n",
    "\n",
    "def gol_cons25(x):\n",
    "    x1, x2, x3, x4, x5, x6, x7 = list(x)\n",
    "    return 1 - ((1.1 * x7 + 1.9) * (x5**-1))\n",
    "\n",
    "con1 = {'type': 'ineq', 'fun': gol_cons1}\n",
    "con2 = {'type': 'ineq', 'fun': gol_cons2}\n",
    "con3 = {'type': 'ineq', 'fun': gol_cons3}\n",
    "con4 = {'type': 'ineq', 'fun': gol_cons4}\n",
    "con5 = {'type': 'ineq', 'fun': gol_cons5}\n",
    "con6 = {'type': 'ineq', 'fun': gol_cons6}\n",
    "con7 = {'type': 'ineq', 'fun': gol_cons7}\n",
    "con8 = {'type': 'ineq', 'fun': gol_cons8}\n",
    "con9 = {'type': 'ineq', 'fun': gol_cons9}\n",
    "con24 = {'type': 'ineq', 'fun': gol_cons24}\n",
    "con25 = {'type': 'ineq', 'fun': gol_cons25}\n",
    "cons = ([con1, con2, con3, con4, con5, con6, con7, con8, con9, con24, con25])"
   ]
  },
  {
   "cell_type": "markdown",
   "metadata": {},
   "source": [
    "### Define Bounds"
   ]
  },
  {
   "cell_type": "code",
   "execution_count": 98,
   "metadata": {},
   "outputs": [],
   "source": [
    "b1=(2.6,3.6)\n",
    "b2=(0.7,0.8)\n",
    "b3=(17,28)\n",
    "b4=(7.3,8.3)\n",
    "b5=(7.3,8.3)\n",
    "b6=(2.9,3.9)\n",
    "b7=(5,5.5)\n",
    "bounds = (b1,b2,b3,b4,b5,b6,b7)"
   ]
  },
  {
   "cell_type": "markdown",
   "metadata": {},
   "source": [
    "### Run optimisation"
   ]
  },
  {
   "cell_type": "code",
   "execution_count": 99,
   "metadata": {},
   "outputs": [
    {
     "data": {
      "text/plain": [
       "(47, 8)"
      ]
     },
     "execution_count": 99,
     "metadata": {},
     "output_type": "execute_result"
    }
   ],
   "source": [
    "temp3.shape"
   ]
  },
  {
   "cell_type": "code",
   "execution_count": 125,
   "metadata": {},
   "outputs": [
    {
     "name": "stdout",
     "output_type": "stream",
     "text": [
      "Positive directional derivative for linesearch    (Exit mode 8)\n",
      "            Current function value: 2994.349865180934\n",
      "            Iterations: 10\n",
      "            Function evaluations: 64\n",
      "            Gradient evaluations: 6\n",
      "Optimization terminated successfully.    (Exit mode 0)\n",
      "            Current function value: 2994.3550050549043\n",
      "            Iterations: 5\n",
      "            Function evaluations: 46\n",
      "            Gradient evaluations: 5\n",
      "Positive directional derivative for linesearch    (Exit mode 8)\n",
      "            Current function value: 2994.351725373577\n",
      "            Iterations: 11\n",
      "            Function evaluations: 63\n",
      "            Gradient evaluations: 7\n",
      "Optimization terminated successfully.    (Exit mode 0)\n",
      "            Current function value: 2994.3552358327624\n",
      "            Iterations: 4\n",
      "            Function evaluations: 47\n",
      "            Gradient evaluations: 4\n",
      "Optimization terminated successfully.    (Exit mode 0)\n",
      "            Current function value: 2994.354896917717\n",
      "            Iterations: 9\n",
      "            Function evaluations: 74\n",
      "            Gradient evaluations: 7\n",
      "Optimization terminated successfully.    (Exit mode 0)\n",
      "            Current function value: 2994.3550120811633\n",
      "            Iterations: 8\n",
      "            Function evaluations: 64\n",
      "            Gradient evaluations: 7\n",
      "Positive directional derivative for linesearch    (Exit mode 8)\n",
      "            Current function value: 2994.355056038344\n",
      "            Iterations: 13\n",
      "            Function evaluations: 101\n",
      "            Gradient evaluations: 9\n",
      "Optimization terminated successfully.    (Exit mode 0)\n",
      "            Current function value: 2994.3547939849923\n",
      "            Iterations: 9\n",
      "            Function evaluations: 67\n",
      "            Gradient evaluations: 7\n",
      "Positive directional derivative for linesearch    (Exit mode 8)\n",
      "            Current function value: 2994.3539135264973\n",
      "            Iterations: 16\n",
      "            Function evaluations: 178\n",
      "            Gradient evaluations: 12\n",
      "Positive directional derivative for linesearch    (Exit mode 8)\n",
      "            Current function value: 2994.3556558312716\n",
      "            Iterations: 9\n",
      "            Function evaluations: 45\n",
      "            Gradient evaluations: 5\n",
      "Optimization terminated successfully.    (Exit mode 0)\n",
      "            Current function value: 2994.3543384900113\n",
      "            Iterations: 7\n",
      "            Function evaluations: 56\n",
      "            Gradient evaluations: 5\n",
      "Positive directional derivative for linesearch    (Exit mode 8)\n",
      "            Current function value: 2994.3524437414694\n",
      "            Iterations: 9\n",
      "            Function evaluations: 46\n",
      "            Gradient evaluations: 5\n",
      "Positive directional derivative for linesearch    (Exit mode 8)\n",
      "            Current function value: 2994.3510886695676\n",
      "            Iterations: 11\n",
      "            Function evaluations: 63\n",
      "            Gradient evaluations: 7\n",
      "Positive directional derivative for linesearch    (Exit mode 8)\n",
      "            Current function value: 2994.354816903722\n",
      "            Iterations: 9\n",
      "            Function evaluations: 45\n",
      "            Gradient evaluations: 5\n",
      "Optimization terminated successfully.    (Exit mode 0)\n",
      "            Current function value: 2994.355076590876\n",
      "            Iterations: 9\n",
      "            Function evaluations: 93\n",
      "            Gradient evaluations: 8\n"
     ]
    },
    {
     "data": {
      "image/png": "[encoded data removed]",
      "text/plain": [
       "<Figure size 432x288 with 1 Axes>"
      ]
     },
     "metadata": {},
     "output_type": "display_data"
    }
   ],
   "source": [
    "g_iterations=[]\n",
    "np.set_printoptions(precision=4)\n",
    "plt.figure()\n",
    "initial_guesses=[]\n",
    "for i in range(15):\n",
    "    initial_guesses.append([random.uniform(2.6,3.6),random.uniform(0.7,0.8),\n",
    "                           random.uniform(17,28),random.uniform(7.3,8.3),\n",
    "                           random.uniform(7.3,8.3),random.uniform(2.9,3.9),\n",
    "                           random.uniform(5,5.5)])\n",
    "\n",
    "i=0\n",
    "for inits in initial_guesses:\n",
    "    i=i+1\n",
    "    g_iterations=[]\n",
    "    gol_sol = minimize(golinski, x0=inits, method='SLSQP', bounds=bounds, constraints=cons, \\\n",
    "                       options={'disp': True})\n",
    "    temp3= np.array(g_iterations)\n",
    "    gpt = PrettyTable()\n",
    "    gpt.add_column(\"x1\",temp3[:,0])\n",
    "    gpt.add_column(\"x2\",temp3[:,1])\n",
    "    gpt.add_column(\"x3\",temp3[:,2])\n",
    "    gpt.add_column(\"x4\",temp3[:,3])\n",
    "    gpt.add_column(\"x5\",temp3[:,4])\n",
    "    gpt.add_column(\"x6\",temp3[:,5])\n",
    "    gpt.add_column(\"x7\",temp3[:,6])\n",
    "    gpt.add_column(\"obj\",temp3[:,7])\n",
    "    xvalues = [i for i in range(temp3.shape[0])]\n",
    "    plt.plot(xvalues, temp3[:,7], label= f\"Run-{i}\")\n",
    "\n",
    "plt.title(\"Exercise 2: Golinski Speed Reducer\")\n",
    "plt.legend(loc='upper center', bbox_to_anchor=(0.5, -0.20),\\\n",
    "          fancybox=True, shadow=True, ncol=5,prop=fontP)\n",
    "plt.xlabel(\"Iterations\")\n",
    "plt.ylabel(\"Function Value\")\n",
    "plt.show()"
   ]
  },
  {
   "cell_type": "markdown",
   "metadata": {},
   "source": [
    "### Observations"
   ]
  },
  {
   "cell_type": "markdown",
   "metadata": {},
   "source": [
    "1. All the runs found global minimum which is approximately 2994\n",
    "2. Most of the runs took more than 50 iterations to complete. One run took more than 150"
   ]
  }
 ],
 "metadata": {
  "kernelspec": {
   "display_name": "Python 3",
   "language": "python",
   "name": "python3"
  },
  "language_info": {
   "codemirror_mode": {
    "name": "ipython",
    "version": 3
   },
   "file_extension": ".py",
   "mimetype": "text/x-python",
   "name": "python",
   "nbconvert_exporter": "python",
   "pygments_lexer": "ipython3",
   "version": "3.6.8"
  }
 },
 "nbformat": 4,
 "nbformat_minor": 2
}
