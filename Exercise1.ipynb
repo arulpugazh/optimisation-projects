{
 "cells": [
  {
   "cell_type": "markdown",
   "metadata": {},
   "source": [
    "# Exercise 1"
   ]
  },
  {
   "cell_type": "markdown",
   "metadata": {},
   "source": [
    "#### Define the objective function"
   ]
  },
  {
   "cell_type": "code",
   "execution_count": 17,
   "metadata": {},
   "outputs": [],
   "source": [
    "%matplotlib inline\n",
    "from scipy.optimize import minimize, Bounds\n",
    "import math\n",
    "from prettytable import PrettyTable\n",
    "import matplotlib.pyplot as plt\n",
    "import matplotlib.style as style\n",
    "style.use('ggplot')\n",
    "from matplotlib.font_manager import FontProperties\n",
    "fontP = FontProperties()\n",
    "fontP.set_size('small')\n",
    "\n",
    "from mpl_toolkits.mplot3d import Axes3D\n",
    "import numpy as np\n",
    "import random\n",
    "\n",
    "a = [100, 150, 300]\n",
    "p = [0,0,0]\n",
    "\n",
    "def revenue(p):\n",
    "    totalrev=0\n",
    "    for i in range(3):\n",
    "        totalrev = totalrev + (a[i] * np.exp((-1/a[i])*p[i]) * p[i])\n",
    "    #inverting sign because we're maximising\n",
    "    return -totalrev\n"
   ]
  },
  {
   "cell_type": "markdown",
   "metadata": {},
   "source": [
    "#### Define constraints function"
   ]
  },
  {
   "cell_type": "code",
   "execution_count": 18,
   "metadata": {},
   "outputs": [],
   "source": [
    "def cons(p):\n",
    "    totalpeople = 0\n",
    "    for j in range(3):\n",
    "        totalpeople = totalpeople + (a[j] * np.exp((-1/a[j])*p[j]))\n",
    "        \n",
    "    return (totalpeople - 150)\n",
    "con1 = {'type': 'eq', 'fun': cons}"
   ]
  },
  {
   "cell_type": "markdown",
   "metadata": {},
   "source": [
    "#### Define bounds and send the parameters to scipy.minimize"
   ]
  },
  {
   "cell_type": "code",
   "execution_count": 21,
   "metadata": {},
   "outputs": [
    {
     "name": "stdout",
     "output_type": "stream",
     "text": [
      "     fun: -43670.8588352954\n",
      "     jac: array([11.8359375 , 14.30029297, 17.27880859])\n",
      " message: 'Optimization terminated successfully.'\n",
      "    nfev: 50\n",
      "     nit: 10\n",
      "    njev: 10\n",
      "  status: 0\n",
      " success: True\n",
      "       x: array([156.74924309, 206.74745231, 356.74865589])\n"
     ]
    }
   ],
   "source": [
    "bsol = minimize(revenue, x0=p, method='SLSQP', constraints=con1)\n",
    "print(bsol)"
   ]
  },
  {
   "cell_type": "code",
   "execution_count": 23,
   "metadata": {},
   "outputs": [
    {
     "name": "stdout",
     "output_type": "stream",
     "text": [
      "Total Revenue is 43670.85883531953\n"
     ]
    }
   ],
   "source": [
    "print(f\"Total Revenue is {-1 * revenue([156.74924309, 206.74745231, 356.74865589])}\")"
   ]
  },
  {
   "cell_type": "markdown",
   "metadata": {},
   "source": [
    "#### New constraint: Add 3 more seats"
   ]
  },
  {
   "cell_type": "code",
   "execution_count": 25,
   "metadata": {},
   "outputs": [],
   "source": [
    "def cons2(p):\n",
    "    totalpeople = 0\n",
    "    for j in range(3):\n",
    "        totalpeople = totalpeople + (a[j] * np.exp((-1/a[j])*p[j]))\n",
    "        \n",
    "    return (totalpeople - 153)\n",
    "con2 = {'type': 'eq', 'fun': cons2}"
   ]
  },
  {
   "cell_type": "markdown",
   "metadata": {},
   "source": [
    "#### Run revenue again"
   ]
  },
  {
   "cell_type": "code",
   "execution_count": 26,
   "metadata": {},
   "outputs": [
    {
     "name": "stdout",
     "output_type": "stream",
     "text": [
      "     fun: -43835.269617949874\n",
      "     jac: array([11.46386719, 13.67382812, 16.30761719])\n",
      " message: 'Optimization terminated successfully.'\n",
      "    nfev: 52\n",
      "     nit: 10\n",
      "    njev: 10\n",
      "  status: 0\n",
      " success: True\n",
      "       x: array([152.87462439, 202.87388439, 352.87475698])\n"
     ]
    }
   ],
   "source": [
    "bsol = minimize(revenue, x0=p, method='SLSQP', constraints=con2)\n",
    "print(bsol)"
   ]
  },
  {
   "cell_type": "code",
   "execution_count": 27,
   "metadata": {},
   "outputs": [
    {
     "name": "stdout",
     "output_type": "stream",
     "text": [
      "New Revenue is 43835.26961783325\n"
     ]
    }
   ],
   "source": [
    "print(f\"New Revenue is {-1 * revenue([152.87462439, 202.87388439, 352.87475698])}\")"
   ]
  }
 ],
 "metadata": {
  "kernelspec": {
   "display_name": "Python 3",
   "language": "python",
   "name": "python3"
  },
  "language_info": {
   "codemirror_mode": {
    "name": "ipython",
    "version": 3
   },
   "file_extension": ".py",
   "mimetype": "text/x-python",
   "name": "python",
   "nbconvert_exporter": "python",
   "pygments_lexer": "ipython3",
   "version": "3.6.8"
  }
 },
 "nbformat": 4,
 "nbformat_minor": 2
}
